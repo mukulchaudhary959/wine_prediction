{
 "cells": [
  {
   "cell_type": "code",
   "execution_count": 1,
   "id": "fb7c8a3c",
   "metadata": {},
   "outputs": [],
   "source": [
    "import numpy as np\n",
    "import pandas as pd"
   ]
  },
  {
   "cell_type": "code",
   "execution_count": 2,
   "id": "c3769510",
   "metadata": {},
   "outputs": [],
   "source": [
    "df=pd.read_csv(\"winequality-red.csv\")"
   ]
  },
  {
   "cell_type": "code",
   "execution_count": 3,
   "id": "8f284a5a",
   "metadata": {},
   "outputs": [
    {
     "data": {
      "text/html": [
       "<div>\n",
       "<style scoped>\n",
       "    .dataframe tbody tr th:only-of-type {\n",
       "        vertical-align: middle;\n",
       "    }\n",
       "\n",
       "    .dataframe tbody tr th {\n",
       "        vertical-align: top;\n",
       "    }\n",
       "\n",
       "    .dataframe thead th {\n",
       "        text-align: right;\n",
       "    }\n",
       "</style>\n",
       "<table border=\"1\" class=\"dataframe\">\n",
       "  <thead>\n",
       "    <tr style=\"text-align: right;\">\n",
       "      <th></th>\n",
       "      <th>fixed acidity</th>\n",
       "      <th>volatile acidity</th>\n",
       "      <th>citric acid</th>\n",
       "      <th>residual sugar</th>\n",
       "      <th>chlorides</th>\n",
       "      <th>free sulfur dioxide</th>\n",
       "      <th>total sulfur dioxide</th>\n",
       "      <th>density</th>\n",
       "      <th>pH</th>\n",
       "      <th>sulphates</th>\n",
       "      <th>alcohol</th>\n",
       "      <th>quality</th>\n",
       "    </tr>\n",
       "  </thead>\n",
       "  <tbody>\n",
       "    <tr>\n",
       "      <th>0</th>\n",
       "      <td>7.4</td>\n",
       "      <td>0.70</td>\n",
       "      <td>0.00</td>\n",
       "      <td>1.9</td>\n",
       "      <td>0.076</td>\n",
       "      <td>11.0</td>\n",
       "      <td>34.0</td>\n",
       "      <td>0.9978</td>\n",
       "      <td>3.51</td>\n",
       "      <td>0.56</td>\n",
       "      <td>9.4</td>\n",
       "      <td>5</td>\n",
       "    </tr>\n",
       "    <tr>\n",
       "      <th>1</th>\n",
       "      <td>7.8</td>\n",
       "      <td>0.88</td>\n",
       "      <td>0.00</td>\n",
       "      <td>2.6</td>\n",
       "      <td>0.098</td>\n",
       "      <td>25.0</td>\n",
       "      <td>67.0</td>\n",
       "      <td>0.9968</td>\n",
       "      <td>3.20</td>\n",
       "      <td>0.68</td>\n",
       "      <td>9.8</td>\n",
       "      <td>5</td>\n",
       "    </tr>\n",
       "    <tr>\n",
       "      <th>2</th>\n",
       "      <td>7.8</td>\n",
       "      <td>0.76</td>\n",
       "      <td>0.04</td>\n",
       "      <td>2.3</td>\n",
       "      <td>0.092</td>\n",
       "      <td>15.0</td>\n",
       "      <td>54.0</td>\n",
       "      <td>0.9970</td>\n",
       "      <td>3.26</td>\n",
       "      <td>0.65</td>\n",
       "      <td>9.8</td>\n",
       "      <td>5</td>\n",
       "    </tr>\n",
       "    <tr>\n",
       "      <th>3</th>\n",
       "      <td>11.2</td>\n",
       "      <td>0.28</td>\n",
       "      <td>0.56</td>\n",
       "      <td>1.9</td>\n",
       "      <td>0.075</td>\n",
       "      <td>17.0</td>\n",
       "      <td>60.0</td>\n",
       "      <td>0.9980</td>\n",
       "      <td>3.16</td>\n",
       "      <td>0.58</td>\n",
       "      <td>9.8</td>\n",
       "      <td>6</td>\n",
       "    </tr>\n",
       "    <tr>\n",
       "      <th>4</th>\n",
       "      <td>7.4</td>\n",
       "      <td>0.70</td>\n",
       "      <td>0.00</td>\n",
       "      <td>1.9</td>\n",
       "      <td>0.076</td>\n",
       "      <td>11.0</td>\n",
       "      <td>34.0</td>\n",
       "      <td>0.9978</td>\n",
       "      <td>3.51</td>\n",
       "      <td>0.56</td>\n",
       "      <td>9.4</td>\n",
       "      <td>5</td>\n",
       "    </tr>\n",
       "  </tbody>\n",
       "</table>\n",
       "</div>"
      ],
      "text/plain": [
       "   fixed acidity  volatile acidity  citric acid  residual sugar  chlorides   \n",
       "0            7.4              0.70         0.00             1.9      0.076  \\\n",
       "1            7.8              0.88         0.00             2.6      0.098   \n",
       "2            7.8              0.76         0.04             2.3      0.092   \n",
       "3           11.2              0.28         0.56             1.9      0.075   \n",
       "4            7.4              0.70         0.00             1.9      0.076   \n",
       "\n",
       "   free sulfur dioxide  total sulfur dioxide  density    pH  sulphates   \n",
       "0                 11.0                  34.0   0.9978  3.51       0.56  \\\n",
       "1                 25.0                  67.0   0.9968  3.20       0.68   \n",
       "2                 15.0                  54.0   0.9970  3.26       0.65   \n",
       "3                 17.0                  60.0   0.9980  3.16       0.58   \n",
       "4                 11.0                  34.0   0.9978  3.51       0.56   \n",
       "\n",
       "   alcohol  quality  \n",
       "0      9.4        5  \n",
       "1      9.8        5  \n",
       "2      9.8        5  \n",
       "3      9.8        6  \n",
       "4      9.4        5  "
      ]
     },
     "execution_count": 3,
     "metadata": {},
     "output_type": "execute_result"
    }
   ],
   "source": [
    "df.head()"
   ]
  },
  {
   "cell_type": "code",
   "execution_count": 4,
   "id": "b177ddfc",
   "metadata": {},
   "outputs": [
    {
     "name": "stdout",
     "output_type": "stream",
     "text": [
      "<class 'pandas.core.frame.DataFrame'>\n",
      "RangeIndex: 1599 entries, 0 to 1598\n",
      "Data columns (total 12 columns):\n",
      " #   Column                Non-Null Count  Dtype  \n",
      "---  ------                --------------  -----  \n",
      " 0   fixed acidity         1599 non-null   float64\n",
      " 1   volatile acidity      1599 non-null   float64\n",
      " 2   citric acid           1599 non-null   float64\n",
      " 3   residual sugar        1599 non-null   float64\n",
      " 4   chlorides             1599 non-null   float64\n",
      " 5   free sulfur dioxide   1599 non-null   float64\n",
      " 6   total sulfur dioxide  1599 non-null   float64\n",
      " 7   density               1599 non-null   float64\n",
      " 8   pH                    1599 non-null   float64\n",
      " 9   sulphates             1599 non-null   float64\n",
      " 10  alcohol               1599 non-null   float64\n",
      " 11  quality               1599 non-null   int64  \n",
      "dtypes: float64(11), int64(1)\n",
      "memory usage: 150.0 KB\n"
     ]
    }
   ],
   "source": [
    "df.info()"
   ]
  },
  {
   "cell_type": "code",
   "execution_count": 5,
   "id": "bb5e9bae",
   "metadata": {},
   "outputs": [],
   "source": [
    "from sklearn.model_selection import train_test_split"
   ]
  },
  {
   "cell_type": "code",
   "execution_count": 7,
   "id": "ce33c78f",
   "metadata": {},
   "outputs": [],
   "source": [
    "X=df.drop(labels='quality',axis=1)"
   ]
  },
  {
   "cell_type": "code",
   "execution_count": 8,
   "id": "381a5a9b",
   "metadata": {},
   "outputs": [],
   "source": [
    "y=df['quality']"
   ]
  },
  {
   "cell_type": "code",
   "execution_count": 9,
   "id": "7efcbb6a",
   "metadata": {},
   "outputs": [],
   "source": [
    "from sklearn.linear_model import LinearRegression"
   ]
  },
  {
   "cell_type": "code",
   "execution_count": 10,
   "id": "68142b79",
   "metadata": {},
   "outputs": [],
   "source": [
    "model=LinearRegression()"
   ]
  },
  {
   "cell_type": "code",
   "execution_count": 11,
   "id": "d009955d",
   "metadata": {},
   "outputs": [],
   "source": [
    "X_train,X_test,y_train,y_test=train_test_split(X,y,test_size=0.2)"
   ]
  },
  {
   "cell_type": "code",
   "execution_count": 12,
   "id": "13abb686",
   "metadata": {},
   "outputs": [
    {
     "data": {
      "text/html": [
       "<style>#sk-container-id-1 {color: black;background-color: white;}#sk-container-id-1 pre{padding: 0;}#sk-container-id-1 div.sk-toggleable {background-color: white;}#sk-container-id-1 label.sk-toggleable__label {cursor: pointer;display: block;width: 100%;margin-bottom: 0;padding: 0.3em;box-sizing: border-box;text-align: center;}#sk-container-id-1 label.sk-toggleable__label-arrow:before {content: \"▸\";float: left;margin-right: 0.25em;color: #696969;}#sk-container-id-1 label.sk-toggleable__label-arrow:hover:before {color: black;}#sk-container-id-1 div.sk-estimator:hover label.sk-toggleable__label-arrow:before {color: black;}#sk-container-id-1 div.sk-toggleable__content {max-height: 0;max-width: 0;overflow: hidden;text-align: left;background-color: #f0f8ff;}#sk-container-id-1 div.sk-toggleable__content pre {margin: 0.2em;color: black;border-radius: 0.25em;background-color: #f0f8ff;}#sk-container-id-1 input.sk-toggleable__control:checked~div.sk-toggleable__content {max-height: 200px;max-width: 100%;overflow: auto;}#sk-container-id-1 input.sk-toggleable__control:checked~label.sk-toggleable__label-arrow:before {content: \"▾\";}#sk-container-id-1 div.sk-estimator input.sk-toggleable__control:checked~label.sk-toggleable__label {background-color: #d4ebff;}#sk-container-id-1 div.sk-label input.sk-toggleable__control:checked~label.sk-toggleable__label {background-color: #d4ebff;}#sk-container-id-1 input.sk-hidden--visually {border: 0;clip: rect(1px 1px 1px 1px);clip: rect(1px, 1px, 1px, 1px);height: 1px;margin: -1px;overflow: hidden;padding: 0;position: absolute;width: 1px;}#sk-container-id-1 div.sk-estimator {font-family: monospace;background-color: #f0f8ff;border: 1px dotted black;border-radius: 0.25em;box-sizing: border-box;margin-bottom: 0.5em;}#sk-container-id-1 div.sk-estimator:hover {background-color: #d4ebff;}#sk-container-id-1 div.sk-parallel-item::after {content: \"\";width: 100%;border-bottom: 1px solid gray;flex-grow: 1;}#sk-container-id-1 div.sk-label:hover label.sk-toggleable__label {background-color: #d4ebff;}#sk-container-id-1 div.sk-serial::before {content: \"\";position: absolute;border-left: 1px solid gray;box-sizing: border-box;top: 0;bottom: 0;left: 50%;z-index: 0;}#sk-container-id-1 div.sk-serial {display: flex;flex-direction: column;align-items: center;background-color: white;padding-right: 0.2em;padding-left: 0.2em;position: relative;}#sk-container-id-1 div.sk-item {position: relative;z-index: 1;}#sk-container-id-1 div.sk-parallel {display: flex;align-items: stretch;justify-content: center;background-color: white;position: relative;}#sk-container-id-1 div.sk-item::before, #sk-container-id-1 div.sk-parallel-item::before {content: \"\";position: absolute;border-left: 1px solid gray;box-sizing: border-box;top: 0;bottom: 0;left: 50%;z-index: -1;}#sk-container-id-1 div.sk-parallel-item {display: flex;flex-direction: column;z-index: 1;position: relative;background-color: white;}#sk-container-id-1 div.sk-parallel-item:first-child::after {align-self: flex-end;width: 50%;}#sk-container-id-1 div.sk-parallel-item:last-child::after {align-self: flex-start;width: 50%;}#sk-container-id-1 div.sk-parallel-item:only-child::after {width: 0;}#sk-container-id-1 div.sk-dashed-wrapped {border: 1px dashed gray;margin: 0 0.4em 0.5em 0.4em;box-sizing: border-box;padding-bottom: 0.4em;background-color: white;}#sk-container-id-1 div.sk-label label {font-family: monospace;font-weight: bold;display: inline-block;line-height: 1.2em;}#sk-container-id-1 div.sk-label-container {text-align: center;}#sk-container-id-1 div.sk-container {/* jupyter's `normalize.less` sets `[hidden] { display: none; }` but bootstrap.min.css set `[hidden] { display: none !important; }` so we also need the `!important` here to be able to override the default hidden behavior on the sphinx rendered scikit-learn.org. See: https://github.com/scikit-learn/scikit-learn/issues/21755 */display: inline-block !important;position: relative;}#sk-container-id-1 div.sk-text-repr-fallback {display: none;}</style><div id=\"sk-container-id-1\" class=\"sk-top-container\"><div class=\"sk-text-repr-fallback\"><pre>LinearRegression()</pre><b>In a Jupyter environment, please rerun this cell to show the HTML representation or trust the notebook. <br />On GitHub, the HTML representation is unable to render, please try loading this page with nbviewer.org.</b></div><div class=\"sk-container\" hidden><div class=\"sk-item\"><div class=\"sk-estimator sk-toggleable\"><input class=\"sk-toggleable__control sk-hidden--visually\" id=\"sk-estimator-id-1\" type=\"checkbox\" checked><label for=\"sk-estimator-id-1\" class=\"sk-toggleable__label sk-toggleable__label-arrow\">LinearRegression</label><div class=\"sk-toggleable__content\"><pre>LinearRegression()</pre></div></div></div></div></div>"
      ],
      "text/plain": [
       "LinearRegression()"
      ]
     },
     "execution_count": 12,
     "metadata": {},
     "output_type": "execute_result"
    }
   ],
   "source": [
    "model.fit(X_train,y_train)"
   ]
  },
  {
   "cell_type": "code",
   "execution_count": 13,
   "id": "d9815d03",
   "metadata": {},
   "outputs": [
    {
     "data": {
      "text/plain": [
       "0.3308220028602803"
      ]
     },
     "execution_count": 13,
     "metadata": {},
     "output_type": "execute_result"
    }
   ],
   "source": [
    "model.score(X_test,y_test)"
   ]
  },
  {
   "cell_type": "code",
   "execution_count": 14,
   "id": "afc3b271",
   "metadata": {},
   "outputs": [],
   "source": [
    "y_pred=model.predict(X_test)"
   ]
  },
  {
   "cell_type": "code",
   "execution_count": 15,
   "id": "9cff9dcf",
   "metadata": {},
   "outputs": [
    {
     "data": {
      "text/plain": [
       "array([5.56941365, 5.00011758, 4.9901603 , 6.17759296, 5.36227682,\n",
       "       5.88148153, 5.66893944, 4.9944555 , 5.2967445 , 5.33352584,\n",
       "       5.96326535, 5.53643121, 6.08820152, 4.87826659, 5.59537994,\n",
       "       5.18211967, 6.62096035, 5.27806054, 5.21082352, 5.64954013,\n",
       "       5.98495619, 5.05195605, 6.50820859, 5.50570212, 6.13048246,\n",
       "       5.70674672, 5.54738978, 6.2974113 , 5.86023484, 4.72640885,\n",
       "       5.13062089, 5.72158463, 5.32130755, 5.31450628, 6.0230199 ,\n",
       "       5.9235111 , 5.73868984, 5.89458824, 5.83225749, 5.89517085,\n",
       "       5.66921338, 5.76713537, 5.12793982, 5.43511535, 5.80001519,\n",
       "       5.25717329, 4.74536229, 5.29594064, 5.9591848 , 6.11821259,\n",
       "       6.7730158 , 5.82101086, 5.69519933, 5.11396398, 4.74656262,\n",
       "       5.18622354, 5.06401437, 5.78542728, 5.76202323, 4.70438112,\n",
       "       5.93710741, 5.26319722, 5.39991167, 6.96143507, 6.65260013,\n",
       "       6.49150389, 5.14893314, 5.45491413, 5.12013842, 6.58738545,\n",
       "       5.90467806, 5.40539368, 6.34442723, 5.42713917, 5.77950106,\n",
       "       5.95302324, 5.72421433, 6.53706139, 5.73639616, 5.94624137,\n",
       "       5.46172153, 5.23329207, 5.88148153, 5.14884501, 5.88563734,\n",
       "       6.08782161, 5.1535108 , 6.62486181, 5.09631467, 5.41713127,\n",
       "       5.98755056, 5.2905175 , 5.681265  , 5.77763765, 5.28874183,\n",
       "       5.69417119, 5.30455243, 4.87486443, 5.16199324, 5.43716011,\n",
       "       5.42626964, 5.59419454, 5.95724905, 6.58547127, 5.38900075,\n",
       "       5.83172783, 5.12385753, 5.73934158, 5.77595823, 5.03646661,\n",
       "       5.47125605, 5.18211967, 6.02991891, 5.72506421, 5.22620406,\n",
       "       6.27697268, 5.6406958 , 5.75155042, 5.00818903, 6.52140591,\n",
       "       5.52886376, 6.5909177 , 4.63315879, 5.31902992, 6.4973208 ,\n",
       "       5.83177821, 5.66290617, 5.88604983, 5.01389584, 5.36653314,\n",
       "       6.20913404, 5.59717208, 5.18910247, 5.38555373, 6.13015177,\n",
       "       5.05156923, 5.19006019, 5.10261965, 6.66045858, 5.34964192,\n",
       "       6.13156554, 6.78800372, 5.56088852, 5.09213445, 6.55700713,\n",
       "       6.43822327, 4.94336682, 5.12681569, 5.20905159, 5.22714739,\n",
       "       5.0957353 , 5.28645401, 6.03367232, 5.91964181, 6.15486274,\n",
       "       4.87807181, 5.79851702, 5.20962655, 6.60656346, 4.91822507,\n",
       "       5.65733077, 6.16915228, 5.18910045, 5.54914304, 6.00961484,\n",
       "       6.09922931, 5.83320768, 6.17968602, 5.72722279, 6.21856249,\n",
       "       4.62385487, 6.05763798, 5.01933344, 5.10145927, 5.73868984,\n",
       "       5.27148656, 6.68157583, 5.83669053, 5.572898  , 5.14146586,\n",
       "       5.78042655, 5.96571531, 5.02985014, 5.54611093, 5.49021908,\n",
       "       5.91026054, 4.82326682, 6.67087625, 6.35656904, 5.39152583,\n",
       "       4.99637658, 5.29737107, 5.59793217, 5.19248427, 5.43511776,\n",
       "       5.55502606, 4.98749821, 5.20971125, 5.96989878, 6.53588959,\n",
       "       5.6127077 , 5.24884313, 5.55292683, 6.40784494, 6.45517392,\n",
       "       5.67540303, 6.16750954, 6.6388658 , 5.39339459, 5.17298386,\n",
       "       5.18359684, 5.05115369, 5.09274415, 5.07606833, 5.16051674,\n",
       "       5.46685012, 6.12574776, 5.01035903, 5.22361993, 6.07302665,\n",
       "       5.24704887, 5.40052591, 5.30338368, 4.8347415 , 6.61343958,\n",
       "       5.80438205, 6.5040904 , 5.74281332, 5.72722279, 5.88489569,\n",
       "       5.4739299 , 5.35820438, 5.22500888, 5.72257963, 6.19422986,\n",
       "       4.98050339, 5.27031755, 6.33613922, 5.43831132, 5.75155042,\n",
       "       6.04833166, 5.66336203, 5.43089086, 5.71862963, 6.58987845,\n",
       "       5.34133929, 5.01653588, 5.31159615, 5.07717829, 6.23030415,\n",
       "       5.57306718, 5.91718079, 5.38606512, 5.98104504, 5.71862963,\n",
       "       6.48202415, 6.39542787, 6.25374582, 5.12791104, 5.94624137,\n",
       "       5.11992415, 5.66698473, 5.56896777, 5.77407332, 5.25730644,\n",
       "       5.73121208, 5.88112337, 5.74779173, 5.55502606, 5.36048874,\n",
       "       5.08907081, 5.90440536, 4.97026348, 6.25716195, 4.99453767,\n",
       "       5.50554462, 5.80439346, 5.17783376, 5.43159225, 5.49150683,\n",
       "       5.45825027, 6.10573727, 5.05115369, 5.10571783, 6.21279586,\n",
       "       5.31810101, 5.19100881, 6.49168472, 5.9879393 , 5.23427665,\n",
       "       5.14364749, 5.74744167, 5.75729361, 5.47881454, 5.17449957,\n",
       "       5.56190061, 5.6204706 , 5.05034557, 5.98075799, 5.57696272,\n",
       "       4.45984982, 5.23065017, 4.96832035, 5.91838108, 6.28206457,\n",
       "       5.95043535, 5.27379357, 5.87622174, 5.74813589, 5.31642768,\n",
       "       6.73772999, 6.36799462, 6.15486274, 6.39472546, 5.87094868,\n",
       "       5.65271183, 6.18033685, 5.80647881, 5.29772532, 5.75000894])"
      ]
     },
     "execution_count": 15,
     "metadata": {},
     "output_type": "execute_result"
    }
   ],
   "source": [
    "y_pred"
   ]
  },
  {
   "cell_type": "code",
   "execution_count": 20,
   "id": "0f89f495",
   "metadata": {},
   "outputs": [
    {
     "name": "stdout",
     "output_type": "stream",
     "text": [
      "Wine Quality is Good\n"
     ]
    },
    {
     "name": "stderr",
     "output_type": "stream",
     "text": [
      "C:\\Users\\mukul\\AppData\\Roaming\\Python\\Python310\\site-packages\\sklearn\\base.py:439: UserWarning: X does not have valid feature names, but LinearRegression was fitted with feature names\n",
      "  warnings.warn(\n"
     ]
    }
   ],
   "source": [
    "x_pred=model.predict([[7.4,0.7,0.0,1.9,0.076,11.0,34.0,0.9978,3.51,0.56,9.4]])\n",
    "if(x_pred>5.0):\n",
    "    print(\"Wine Quality is Good\")\n",
    "\n",
    "else:\n",
    "    print(\"Wine Quality is not good\")"
   ]
  },
  {
   "cell_type": "code",
   "execution_count": null,
   "id": "10c9e885",
   "metadata": {},
   "outputs": [],
   "source": []
  }
 ],
 "metadata": {
  "kernelspec": {
   "display_name": "Python 3 (ipykernel)",
   "language": "python",
   "name": "python3"
  },
  "language_info": {
   "codemirror_mode": {
    "name": "ipython",
    "version": 3
   },
   "file_extension": ".py",
   "mimetype": "text/x-python",
   "name": "python",
   "nbconvert_exporter": "python",
   "pygments_lexer": "ipython3",
   "version": "3.10.9"
  }
 },
 "nbformat": 4,
 "nbformat_minor": 5
}
